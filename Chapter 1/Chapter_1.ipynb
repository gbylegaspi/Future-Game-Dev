{
  "nbformat": 4,
  "nbformat_minor": 0,
  "metadata": {
    "colab": {
      "provenance": [],
      "authorship_tag": "ABX9TyPCz01wT9lPnqhiiHEuxxCK",
      "include_colab_link": true
    },
    "kernelspec": {
      "name": "python3",
      "display_name": "Python 3"
    },
    "language_info": {
      "name": "python"
    }
  },
  "cells": [
    {
      "cell_type": "markdown",
      "metadata": {
        "id": "view-in-github",
        "colab_type": "text"
      },
      "source": [
        "<a href=\"https://colab.research.google.com/github/gbylegaspi/Future-Game-Dev/blob/main/Chapter%201/Chapter_1.ipynb\" target=\"_parent\"><img src=\"https://colab.research.google.com/assets/colab-badge.svg\" alt=\"Open In Colab\"/></a>"
      ]
    },
    {
      "cell_type": "code",
      "execution_count": 2,
      "metadata": {
        "colab": {
          "base_uri": "https://localhost:8080/"
        },
        "id": "jv5UV-XRrGvH",
        "outputId": "be880631-5a73-48da-819a-0032840310aa"
      },
      "outputs": [
        {
          "output_type": "stream",
          "name": "stdout",
          "text": [
            "Twinkle, twinkle, little star, How I wonder what you are! Up above the world so high, Like a diamond in the sky. Twinkle, twinkle, little star, How I wonder what you are\n"
          ]
        }
      ],
      "source": [
        "# Exercise 1\n",
        "\n",
        "print('Twinkle, twinkle, little star, How I wonder what you are! Up above the world so high, Like a diamond in the sky. Twinkle, twinkle, little star, How I wonder what you are')"
      ]
    },
    {
      "cell_type": "code",
      "source": [
        "# Exercise 2\n",
        "\n",
        "import sys\n",
        "print(\"Python version\")\n",
        "print(sys.version)\n",
        "\n",
        "print(\"Version info.\")\n",
        "print (sys.version_info)"
      ],
      "metadata": {
        "colab": {
          "base_uri": "https://localhost:8080/"
        },
        "id": "aBRvbazPrxdj",
        "outputId": "a62a83dc-1be7-4f35-abaf-26cf60bb9917"
      },
      "execution_count": 3,
      "outputs": [
        {
          "output_type": "stream",
          "name": "stdout",
          "text": [
            "Python version\n",
            "3.7.15 (default, Oct 12 2022, 19:14:55) \n",
            "[GCC 7.5.0]\n",
            "Version info.\n",
            "sys.version_info(major=3, minor=7, micro=15, releaselevel='final', serial=0)\n"
          ]
        }
      ]
    },
    {
      "cell_type": "code",
      "source": [
        "# Exercise 3\n",
        "\n",
        "from datetime import datetime\n",
        "\n",
        "# datetime object containing current date and time \n",
        "now = datetime.now()\n",
        "\n",
        "print(\"now =\", now)\n",
        "\n",
        "# dd/mm/YY H:M:S\n",
        "dt_string = now.strftime(\"%d/%m/%Y %H:%M:%S\")\n",
        "print(\"date and time =\", dt_string)"
      ],
      "metadata": {
        "colab": {
          "base_uri": "https://localhost:8080/"
        },
        "id": "X91Vp8X_r5X7",
        "outputId": "196e1583-f2ce-4ea1-af6f-824c7300e132"
      },
      "execution_count": 5,
      "outputs": [
        {
          "output_type": "stream",
          "name": "stdout",
          "text": [
            "now = 2022-11-01 19:34:12.076332\n",
            "date and time = 01/11/2022 19:34:12\n"
          ]
        }
      ]
    },
    {
      "cell_type": "code",
      "source": [
        "# Exercise 4\n",
        "\n",
        "a, b, c,= (\"Happy\"), (\"Birthday\"), (\"Sir\")\n",
        "print(a,b,c)"
      ],
      "metadata": {
        "colab": {
          "base_uri": "https://localhost:8080/"
        },
        "id": "ns4H6Sltr-Q7",
        "outputId": "4ebecc1c-82a9-420b-da27-d6d69d95fa0e"
      },
      "execution_count": 7,
      "outputs": [
        {
          "output_type": "stream",
          "name": "stdout",
          "text": [
            "Happy Birthday Sir\n"
          ]
        }
      ]
    },
    {
      "cell_type": "code",
      "source": [
        "# Exercise 5\n",
        "\n",
        "pi = 3.14159\n",
        "r = float(input (\"Input the radius of the circle: \"))\n",
        "print(\"The area of the circle with radius of the circle \" +str(r) + \"is:\" + str(pi*r**2))\n"
      ],
      "metadata": {
        "colab": {
          "base_uri": "https://localhost:8080/"
        },
        "id": "WQjn4M66sGNc",
        "outputId": "de77feb1-159b-4139-c24b-38fb90edb7d4"
      },
      "execution_count": 8,
      "outputs": [
        {
          "output_type": "stream",
          "name": "stdout",
          "text": [
            "Input the radius of the circle: 4\n",
            "The area of the circle with radius of the circle 4.0is:50.26544\n"
          ]
        }
      ]
    }
  ]
}