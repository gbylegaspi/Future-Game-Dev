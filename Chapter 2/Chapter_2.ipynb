{
  "nbformat": 4,
  "nbformat_minor": 0,
  "metadata": {
    "colab": {
      "provenance": [],
      "collapsed_sections": [],
      "authorship_tag": "ABX9TyPf4RSwIoUJoIuY/lAzXVrq",
      "include_colab_link": true
    },
    "kernelspec": {
      "name": "python3",
      "display_name": "Python 3"
    },
    "language_info": {
      "name": "python"
    }
  },
  "cells": [
    {
      "cell_type": "markdown",
      "metadata": {
        "id": "view-in-github",
        "colab_type": "text"
      },
      "source": [
        "<a href=\"https://colab.research.google.com/github/gbylegaspi/Future-Game-Dev/blob/main/Chapter%202/Chapter_2.ipynb\" target=\"_parent\"><img src=\"https://colab.research.google.com/assets/colab-badge.svg\" alt=\"Open In Colab\"/></a>"
      ]
    },
    {
      "cell_type": "code",
      "execution_count": null,
      "metadata": {
        "id": "SHAoQA-2WuEp",
        "colab": {
          "base_uri": "https://localhost:8080/"
        },
        "outputId": "6fbfef90-a736-478d-ad6e-b4adeae46a2a"
      },
      "outputs": [
        {
          "output_type": "stream",
          "name": "stdout",
          "text": [
            "how are you\n",
            "im fine thank you\n"
          ]
        }
      ],
      "source": [
        "# Exercise 1\n",
        "\n",
        "a = 'how are you'\n",
        "print(a)\n",
        "b= 'im fine thank you'\n",
        "print(b)"
      ]
    },
    {
      "cell_type": "code",
      "source": [
        "# Exercise 2\n",
        "\n",
        "print(\"Socrates once said, \\\"The unexamined life is not worth living.\\\"\")"
      ],
      "metadata": {
        "colab": {
          "base_uri": "https://localhost:8080/"
        },
        "id": "_L56HhMvYDtE",
        "outputId": "806e65f7-7288-4685-93da-d305da3e2d49"
      },
      "execution_count": null,
      "outputs": [
        {
          "output_type": "stream",
          "name": "stdout",
          "text": [
            "Socrates once said, \"The unexamined life is not worth living.\"\n"
          ]
        }
      ]
    },
    {
      "cell_type": "code",
      "source": [
        "# Exercise 3\n",
        "\n",
        "name = \"\\tGabby Legaspi\\n\"\n",
        "\n",
        "print(\"Unmodified:\")\n",
        "print(name)\n",
        "\n",
        "print(\"\\nUsing lstrip():\")\n",
        "print(name.lstrip())\n",
        "\n",
        "print(\"\\nUsing rstrip():\")\n",
        "print(name.rstrip())\n",
        "\n",
        "print(\"\\nUsing strip():\")\n",
        "print(name.strip())"
      ],
      "metadata": {
        "id": "gKDdIya-Ysun",
        "colab": {
          "base_uri": "https://localhost:8080/"
        },
        "outputId": "5f9b8378-ee43-4105-b1e7-2f6faaae41b4"
      },
      "execution_count": null,
      "outputs": [
        {
          "output_type": "stream",
          "name": "stdout",
          "text": [
            "Unmodified:\n",
            "\tGabby Legaspi\n",
            "\n",
            "\n",
            "Using lstrip():\n",
            "Gabby Legaspi\n",
            "\n",
            "\n",
            "Using rstrip():\n",
            "\tGabby Legaspi\n",
            "\n",
            "Using strip():\n",
            "Gabby Legaspi\n"
          ]
        }
      ]
    },
    {
      "cell_type": "code",
      "source": [
        "# Exercise 4\n",
        "\n",
        "favorite_number= 25\n",
        "print(\"My favorite number is\", favorite_number)"
      ],
      "metadata": {
        "colab": {
          "base_uri": "https://localhost:8080/"
        },
        "id": "R9x3JuY0ZCdf",
        "outputId": "56874618-18e8-4844-ab6c-572b27517c12"
      },
      "execution_count": null,
      "outputs": [
        {
          "output_type": "stream",
          "name": "stdout",
          "text": [
            "My favorite number is 25\n"
          ]
        }
      ]
    },
    {
      "cell_type": "code",
      "source": [
        "# Exercise 5\n",
        "\n",
        "money= 50\n",
        "usb_sticks= 6\n",
        "total= money//usb_sticks\n",
        "change= money-usb_sticks*total\n",
        "\n",
        "print(\"money:\", money)\n",
        "print(\"usb_sticks:\", usb_sticks)\n",
        "print(\"total:\", total)\n",
        "print(\"change:\", change)"
      ],
      "metadata": {
        "colab": {
          "base_uri": "https://localhost:8080/"
        },
        "id": "6Uze7bBuZWpk",
        "outputId": "0fc18157-f001-4e33-cac8-45ddcfc0ac4f"
      },
      "execution_count": null,
      "outputs": [
        {
          "output_type": "stream",
          "name": "stdout",
          "text": [
            "money: 50\n",
            "usb_sticks: 6\n",
            "total: 8\n",
            "change: 2\n"
          ]
        }
      ]
    }
  ]
}