{
  "nbformat": 4,
  "nbformat_minor": 0,
  "metadata": {
    "colab": {
      "provenance": [],
      "authorship_tag": "ABX9TyP2p3o5iaUm+PYvaTihcoVa",
      "include_colab_link": true
    },
    "kernelspec": {
      "name": "python3",
      "display_name": "Python 3"
    },
    "language_info": {
      "name": "python"
    }
  },
  "cells": [
    {
      "cell_type": "markdown",
      "metadata": {
        "id": "view-in-github",
        "colab_type": "text"
      },
      "source": [
        "<a href=\"https://colab.research.google.com/github/gbylegaspi/Future-Game-Dev/blob/main/Chapter%203/Chapter_3.ipynb\" target=\"_parent\"><img src=\"https://colab.research.google.com/assets/colab-badge.svg\" alt=\"Open In Colab\"/></a>"
      ]
    },
    {
      "cell_type": "code",
      "execution_count": null,
      "metadata": {
        "colab": {
          "base_uri": "https://localhost:8080/"
        },
        "id": "UVa1MwpNbUzU",
        "outputId": "9405af93-fe10-4136-ac47-5efa15b5fe1c"
      },
      "outputs": [
        {
          "output_type": "stream",
          "name": "stdout",
          "text": [
            "Renzie\n",
            "Andrei\n",
            "Jed\n",
            "Kent\n",
            "Christian\n"
          ]
        }
      ],
      "source": [
        "# Exercise 1\n",
        "\n",
        "friends = ['renzie', 'andrei', 'jed', 'kent', 'christian']\n",
        "print(friends[0].title())\n",
        "print(friends[1].title())\n",
        "print(friends[2].title())\n",
        "print(friends[3].title())\n",
        "print(friends[4].title())"
      ]
    },
    {
      "cell_type": "code",
      "source": [
        "# Exercise 2\n",
        "\n",
        "names = ['Andrei', 'Renzie', 'Kent', 'Christian']\n",
        "\n",
        "print(\"Hello, \" + names[0].title() + \"!\")\n",
        "print(\"Hello, \" + names[1].title() + \"!\")\n",
        "print(\"Hello, \" + names[2].title() + \"!\")\n",
        "print(\"Hello, \" + names[3].title() + \"!\")"
      ],
      "metadata": {
        "colab": {
          "base_uri": "https://localhost:8080/"
        },
        "id": "RZpiiM0gb9CD",
        "outputId": "21829725-947a-4d87-f30e-a49484ffe40f"
      },
      "execution_count": null,
      "outputs": [
        {
          "output_type": "stream",
          "name": "stdout",
          "text": [
            "Hello, Andrei!\n",
            "Hello, Renzie!\n",
            "Hello, Kent!\n",
            "Hello, Christian!\n"
          ]
        }
      ]
    },
    {
      "cell_type": "code",
      "source": [
        "# Exercise 3\n",
        "\n",
        "wheels = ['Ferrari', 'Honda', 'Dbai train']\n",
        "\n",
        "print(\"My dream car would be a \" + wheels[0] + \"!\")\n",
        "\n",
        "print(\"I would also like to have a fast motorcycle like \" + wheels[1] + \"!\")\n",
        "\n",
        "print(\"But for now I only use the \" + wheels[2])\n"
      ],
      "metadata": {
        "colab": {
          "base_uri": "https://localhost:8080/"
        },
        "id": "cNghxR15cX0z",
        "outputId": "ce265e0b-bf04-48a7-bde1-9465ea4cf1ae"
      },
      "execution_count": null,
      "outputs": [
        {
          "output_type": "stream",
          "name": "stdout",
          "text": [
            "My dream car would be a Ferrari!\n",
            "I would also like to have a fast motorcycle like Honda!\n",
            "But for now I only use the Dbai train\n"
          ]
        }
      ]
    },
    {
      "cell_type": "code",
      "source": [
        "# Exercise 4\n",
        "\n",
        "guests = ['Socrates', 'Jordan', 'Emma Watson']\n",
        "\n",
        "name = guests[0].title()\n",
        "print(name + \", please come to dinner.\")\n",
        "\n",
        "name = guests[1].title()\n",
        "print(name + \", please come to dinner.\")\n",
        "\n",
        "name = guests[2].title()\n",
        "print(name + \", please come to dinner.\")"
      ],
      "metadata": {
        "colab": {
          "base_uri": "https://localhost:8080/"
        },
        "id": "OoI-5CjXcpDf",
        "outputId": "ed6d77ec-55eb-4c89-d6a5-4d4c5d6983a3"
      },
      "execution_count": null,
      "outputs": [
        {
          "output_type": "stream",
          "name": "stdout",
          "text": [
            "Socrates, please come to dinner.\n",
            "Jordan, please come to dinner.\n",
            "Emma Watson, please come to dinner.\n"
          ]
        }
      ]
    },
    {
      "cell_type": "code",
      "source": [
        "guests = ['Socrates', 'Jordan', 'Emma Watson']\n",
        "\n",
        "name = guests[0].title()\n",
        "print(name + \", please come to dinner.\")\n",
        "\n",
        "name = guests[1].title()\n",
        "print(name + \", please come to dinner.\")\n",
        "\n",
        "name = guests[2].title()\n",
        "print(name + \", please come to dinner.\")\n",
        "\n",
        "name = guests[1].title()\n",
        "print(\"\\nSorry, \" + name + \" can't make it to dinner.\")\n",
        "\n",
        "# Lets replace Jordan with iShowSpeed\n",
        "del(guests[1])\n",
        "guests.insert(1, 'iShowSpeed')\n",
        "\n",
        "# Print the invitations again.\n",
        "name = guests[0].title()\n",
        "print(\"\\n\" + name + \", please come to dinner.\")\n",
        "\n",
        "name = guests[1].title()\n",
        "print(name + \", please come to dinner.\")\n",
        "\n",
        "name = guests[2].title()\n",
        "print(name + \", please come to dinner.\")"
      ],
      "metadata": {
        "colab": {
          "base_uri": "https://localhost:8080/"
        },
        "id": "PyeV57uWdS8a",
        "outputId": "1f3b9bfd-56a0-4f67-abc9-2dbd652d98a1"
      },
      "execution_count": null,
      "outputs": [
        {
          "output_type": "stream",
          "name": "stdout",
          "text": [
            "Socrates, please come to dinner.\n",
            "Jordan, please come to dinner.\n",
            "Emma Watson, please come to dinner.\n",
            "\n",
            "Sorry, Jordan can't make it to dinner.\n",
            "\n",
            "Socrates, please come to dinner.\n",
            "Ishowspeed, please come to dinner.\n",
            "Emma Watson, please come to dinner.\n"
          ]
        }
      ]
    },
    {
      "cell_type": "code",
      "source": [
        "# Exercise 6\n",
        "\n",
        "guests = ['Socrates', 'Jordan', 'Emma Watson']\n",
        "\n",
        "name = guests[0].title()\n",
        "print(name + \", please come to dinner.\")\n",
        "\n",
        "name = guests[1].title()\n",
        "print(name + \", please come to dinner.\")\n",
        "\n",
        "name = guests[2].title()\n",
        "print(name + \", please come to dinner.\")\n",
        "\n",
        "name = guests[1].title()\n",
        "print(\"\\nSorry, \" + name + \" can't make it to dinner.\")\n",
        "\n",
        "# Lets replace Jordan with iShowSpeed\n",
        "del(guests[1])\n",
        "guests.insert(1, 'iShowSpeed')\n",
        "\n",
        "# Print the invitations again.\n",
        "name = guests[0].title()\n",
        "print(\"\\n\" + name + \", please come to dinner.\")\n",
        "\n",
        "name = guests[1].title()\n",
        "print(name + \", please come to dinner.\")\n",
        "\n",
        "name = guests[2].title()\n",
        "print(name + \", please come to dinner.\")\n",
        "\n",
        "# We got a smaller table\n",
        "print(\"Hi guys! sorry but I can only invite 2 people for the dinner.\")\n",
        "first_guest=guests.pop(0)\n",
        "\n",
        "print(guests)\n",
        "print('sorry', first_guest, \"I can't invite you for the dinner.\")\n"
      ],
      "metadata": {
        "id": "8ilW-VB2e3Gw",
        "colab": {
          "base_uri": "https://localhost:8080/"
        },
        "outputId": "55917f23-599f-442b-f599-b2aa9e284fb9"
      },
      "execution_count": null,
      "outputs": [
        {
          "output_type": "stream",
          "name": "stdout",
          "text": [
            "Socrates, please come to dinner.\n",
            "Jordan, please come to dinner.\n",
            "Emma Watson, please come to dinner.\n",
            "\n",
            "Sorry, Jordan can't make it to dinner.\n",
            "\n",
            "Socrates, please come to dinner.\n",
            "Ishowspeed, please come to dinner.\n",
            "Emma Watson, please come to dinner.\n",
            "Hi guys! sorry but I can only invite 2 people for the dinner.\n",
            "['iShowSpeed', 'Emma Watson']\n",
            "sorry Socrates I can't invite you for the dinner.\n"
          ]
        }
      ]
    },
    {
      "cell_type": "code",
      "source": [
        "# Exercise 7\n",
        "\n",
        "locations = ['Hawaii', 'America', 'Grand Canyon', 'Brazil', 'Africa']\n",
        "\n",
        "print(\"Original order:\")\n",
        "print(locations)\n",
        "\n",
        "print(\"\\nAlphabetical:\")\n",
        "print(sorted(locations))\n",
        "\n",
        "print(\"\\nOriginal order:\")\n",
        "print(locations)\n",
        "\n",
        "print(\"\\nReverse alphabetical:\")\n",
        "print(sorted(locations, reverse=True))\n",
        "\n",
        "print(\"\\nOriginal order:\")\n",
        "print(locations)\n",
        "\n",
        "print(\"\\nReversed:\")\n",
        "locations.reverse()\n",
        "print(locations)\n",
        "\n",
        "print(\"\\nOriginal order:\")\n",
        "locations.reverse()\n",
        "print(locations)\n",
        "\n",
        "print(\"\\nAlphabetical\")\n",
        "locations.sort()\n",
        "print(locations)\n",
        "\n",
        "print(\"\\nReverse alphabetical\")\n",
        "locations.sort(reverse=True)\n",
        "print(locations)"
      ],
      "metadata": {
        "colab": {
          "base_uri": "https://localhost:8080/"
        },
        "id": "fDQYQX42X5WY",
        "outputId": "d1755f79-67d4-4636-b474-c7d34e93ac36"
      },
      "execution_count": null,
      "outputs": [
        {
          "output_type": "stream",
          "name": "stdout",
          "text": [
            "Original order:\n",
            "['Hawaii', 'America', 'Grand Canyon', 'Brazil', 'Africa']\n",
            "\n",
            "Alphabetical:\n",
            "['Africa', 'America', 'Brazil', 'Grand Canyon', 'Hawaii']\n",
            "\n",
            "Original order:\n",
            "['Hawaii', 'America', 'Grand Canyon', 'Brazil', 'Africa']\n",
            "\n",
            "Reverse alphabetical:\n",
            "['Hawaii', 'Grand Canyon', 'Brazil', 'America', 'Africa']\n",
            "\n",
            "Original order:\n",
            "['Hawaii', 'America', 'Grand Canyon', 'Brazil', 'Africa']\n",
            "\n",
            "Reversed:\n",
            "['Africa', 'Brazil', 'Grand Canyon', 'America', 'Hawaii']\n",
            "\n",
            "Original order:\n",
            "['Hawaii', 'America', 'Grand Canyon', 'Brazil', 'Africa']\n",
            "\n",
            "Alphabetical\n",
            "['Africa', 'America', 'Brazil', 'Grand Canyon', 'Hawaii']\n",
            "\n",
            "Reverse alphabetical\n",
            "['Hawaii', 'Grand Canyon', 'Brazil', 'America', 'Africa']\n"
          ]
        }
      ]
    }
  ]
}