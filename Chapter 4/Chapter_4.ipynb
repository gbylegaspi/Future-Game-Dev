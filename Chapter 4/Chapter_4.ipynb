{
  "nbformat": 4,
  "nbformat_minor": 0,
  "metadata": {
    "colab": {
      "provenance": [],
      "authorship_tag": "ABX9TyMwMmUJglcwLdJd/Nx1rk+F",
      "include_colab_link": true
    },
    "kernelspec": {
      "name": "python3",
      "display_name": "Python 3"
    },
    "language_info": {
      "name": "python"
    }
  },
  "cells": [
    {
      "cell_type": "markdown",
      "metadata": {
        "id": "view-in-github",
        "colab_type": "text"
      },
      "source": [
        "<a href=\"https://colab.research.google.com/github/gbylegaspi/Future-Game-Dev/blob/main/Chapter%204/Chapter_4.ipynb\" target=\"_parent\"><img src=\"https://colab.research.google.com/assets/colab-badge.svg\" alt=\"Open In Colab\"/></a>"
      ]
    },
    {
      "cell_type": "code",
      "execution_count": null,
      "metadata": {
        "colab": {
          "base_uri": "https://localhost:8080/"
        },
        "id": "Kk3StQlZYqq0",
        "outputId": "36b3a9d0-b54b-494e-8245-6e15de5cbcc6"
      },
      "outputs": [
        {
          "output_type": "stream",
          "name": "stdout",
          "text": [
            "You just earned 5 points!\n"
          ]
        }
      ],
      "source": [
        "# Exercise 1-A\n",
        "\n",
        "# We assigned a color to the variable alien_color and then it goes through the function if that prints a message if the color is correct\n",
        "alien_color = 'red'\n",
        "\n",
        "if alien_color == 'red':\n",
        "    print(\"You just earned 5 points!\")"
      ]
    },
    {
      "cell_type": "code",
      "source": [
        "# Exercise 1-B\n",
        "\n",
        "# We assigned a color to the variable alien_color and then it goes through the function if that prints a message if the color is correct\n",
        "alien_color = 'red'\n",
        "# But in this case it is wrong\n",
        "if alien_color == 'yellow':\n",
        "    print(\"You just earned 5 points!\")"
      ],
      "metadata": {
        "id": "CSzr6nCdZR_Z"
      },
      "execution_count": null,
      "outputs": []
    },
    {
      "cell_type": "code",
      "source": [
        "# Exercise 2-A\n",
        "\n",
        "# We assigned a color to the variable alien_color and then it goes through the function if that prints a message if the color is correct\n",
        "alien_color = 'green'\n",
        "\n",
        "# I then added the function else to print a second message if the color is wrong\n",
        "if alien_color == 'green':\n",
        "    print(\"You just earned 5 points!\")\n",
        "else:\n",
        "    print(\"You just earned 10 points!\")\n",
        "\n",
        "# In this script the color is correct"
      ],
      "metadata": {
        "colab": {
          "base_uri": "https://localhost:8080/"
        },
        "id": "XEENRG6LZbCS",
        "outputId": "775132b3-3fd6-40de-c4d5-2f0d3248daa9"
      },
      "execution_count": null,
      "outputs": [
        {
          "output_type": "stream",
          "name": "stdout",
          "text": [
            "You just earned 5 points!\n"
          ]
        }
      ]
    },
    {
      "cell_type": "code",
      "source": [
        "# Exercise 2-B\n",
        "\n",
        "# We assigned a color to the variable alien_color and then it goes through the function if that prints a message if the color is correct\n",
        "alien_color = 'green'\n",
        "\n",
        "# I then added the function else to print a second message if the color is wrong\n",
        "if alien_color == 'yellow':\n",
        "    print(\"You just earned 5 points!\")\n",
        "else:\n",
        "    print(\"You just earned 10 points!\")\n",
        "\n",
        "# In this script the color is wrong which then uses the else function"
      ],
      "metadata": {
        "colab": {
          "base_uri": "https://localhost:8080/"
        },
        "id": "r0aI2SYFaCkY",
        "outputId": "b5d3298b-b270-4d19-865c-4813520e7244"
      },
      "execution_count": null,
      "outputs": [
        {
          "output_type": "stream",
          "name": "stdout",
          "text": [
            "You just earned 10 points!\n"
          ]
        }
      ]
    },
    {
      "cell_type": "code",
      "source": [
        "# Exercise 3\n",
        "\n",
        "# We assigned a color to the variable alien_color and then it goes through the function if that prints a message if the color is correct\n",
        "alien_color = 'red'\n",
        "\n",
        "# In this script you can see the usage of elseif \n",
        "if alien_color == 'green':\n",
        "    print(\"You just earned 5 points!\")\n",
        "elif alien_color == 'yellow':\n",
        "    print(\"You just earned 10 points!\")\n",
        "else:\n",
        "    print(\"You just earned 15 points!\")"
      ],
      "metadata": {
        "colab": {
          "base_uri": "https://localhost:8080/"
        },
        "id": "vbjwdTL2aLHJ",
        "outputId": "17336a20-3967-4152-f1a8-6e9e2bc4905d"
      },
      "execution_count": null,
      "outputs": [
        {
          "output_type": "stream",
          "name": "stdout",
          "text": [
            "You just earned 15 points!\n"
          ]
        }
      ]
    },
    {
      "cell_type": "code",
      "source": [
        "# Exercise 4\n",
        "\n",
        "# This script is about the stages of life. The output depends on the variable of age\n",
        "age = 19\n",
        "\n",
        "if age < 2:\n",
        "    print(\"You're a baby litlle bro\")\n",
        "elif age < 4:\n",
        "    print(\"You're a toddler bro\")\n",
        "elif age < 13:\n",
        "    print(\"You're a kid little man\")\n",
        "elif age < 20:\n",
        "    print(\"You're a teenager dude\")\n",
        "elif age < 65:\n",
        "    print(\"You're an adult sir\")\n",
        "else:\n",
        "    print(\"You're an elder good sir\")"
      ],
      "metadata": {
        "colab": {
          "base_uri": "https://localhost:8080/"
        },
        "id": "qQyoGgKGafha",
        "outputId": "1e8d4e96-0b3d-4ec8-faf6-24a8bb866785"
      },
      "execution_count": null,
      "outputs": [
        {
          "output_type": "stream",
          "name": "stdout",
          "text": [
            "You're a teenager dude\n"
          ]
        }
      ]
    },
    {
      "cell_type": "code",
      "source": [
        "# Exercise 5\n",
        "\n",
        "# This script is a series of independent if statements which then checks for certain fruits in the list\n",
        "favorite_fruits = ['Apples', 'Oranges', 'Peaches']\n",
        "\n",
        "# I \n",
        "if 'Apple' in favorite_fruits:\n",
        "    print(\"You really like Apples!\")\n",
        "if 'Orange' in favorite_fruits:\n",
        "    print(\"You really like Oranges!\")\n",
        "if 'Peaches' in favorite_fruits:\n",
        "    print(\"You really like Peaches!\")\n",
        "if 'Coconut' in favorite_fruits:\n",
        "    print(\"You really like Coconuts!\")\n",
        "if 'Banana' in favorite_fruits:\n",
        "    print(\"You really like Bananas!\")"
      ],
      "metadata": {
        "colab": {
          "base_uri": "https://localhost:8080/"
        },
        "id": "YkusSL1Wa3ZK",
        "outputId": "02b83394-c012-4498-df4f-daa90d7749f2"
      },
      "execution_count": null,
      "outputs": [
        {
          "output_type": "stream",
          "name": "stdout",
          "text": [
            "You really like Peaches!\n"
          ]
        }
      ]
    }
  ]
}