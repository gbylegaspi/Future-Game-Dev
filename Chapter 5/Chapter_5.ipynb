{
  "nbformat": 4,
  "nbformat_minor": 0,
  "metadata": {
    "colab": {
      "provenance": [],
      "collapsed_sections": [],
      "authorship_tag": "ABX9TyM3yVID1LAzcqE0Lsa0h1jQ",
      "include_colab_link": true
    },
    "kernelspec": {
      "name": "python3",
      "display_name": "Python 3"
    },
    "language_info": {
      "name": "python"
    }
  },
  "cells": [
    {
      "cell_type": "markdown",
      "metadata": {
        "id": "view-in-github",
        "colab_type": "text"
      },
      "source": [
        "<a href=\"https://colab.research.google.com/github/gbylegaspi/Future-Game-Dev/blob/main/Chapter%205/Chapter_5.ipynb\" target=\"_parent\"><img src=\"https://colab.research.google.com/assets/colab-badge.svg\" alt=\"Open In Colab\"/></a>"
      ]
    },
    {
      "cell_type": "code",
      "source": [
        "# Exercise 1\n",
        "\n",
        "person = {'first_name': 'Gab', 'last_name': 'Legaspi', 'age': 19, 'city': 'Dubai',}\n",
        "\n",
        "print(person['first_name'])\n",
        "print(person['last_name'])\n",
        "print(person['age'])\n",
        "print(person['city'])"
      ],
      "metadata": {
        "colab": {
          "base_uri": "https://localhost:8080/"
        },
        "id": "dMoHcPL5cCFc",
        "outputId": "a3514891-07c0-47cf-a6de-f035d8c25c69"
      },
      "execution_count": null,
      "outputs": [
        {
          "output_type": "stream",
          "name": "stdout",
          "text": [
            "Gab\n",
            "Legaspi\n",
            "19\n",
            "Dubai\n"
          ]
        }
      ]
    },
    {
      "cell_type": "code",
      "source": [
        "# Exercise 2\n",
        "\n",
        "glossary = {'Variable': 'Gives data to the computer of prossesing.', 'Comment': 'A note in a program that the Python interpreter ignores.', 'List': 'A collection of items in a particular order.', 'Loop': \n",
        "            'Work through a collection of items, one at a time.', 'Dictionary': \"A collection of key-value pairs.\",\n",
        "    }\n",
        "\n",
        "word = 'Variable'\n",
        "print(\"\\n\" + word.title() + \": \" + glossary[word])\n",
        "\n",
        "word = 'Comment'\n",
        "print(\"\\n\" + word.title() + \": \" + glossary[word])\n",
        "\n",
        "word = 'List'\n",
        "print(\"\\n\" + word.title() + \": \" + glossary[word])\n",
        "\n",
        "word = 'Loop'\n",
        "print(\"\\n\" + word.title() + \": \" + glossary[word])\n",
        "\n",
        "word = 'Dictionary'\n",
        "print(\"\\n\" + word.title() + \": \" + glossary[word])"
      ],
      "metadata": {
        "colab": {
          "base_uri": "https://localhost:8080/"
        },
        "id": "p4pM0KnScaUM",
        "outputId": "4dc6cb2f-bc3e-47ee-d9e5-b0fd2637246a"
      },
      "execution_count": null,
      "outputs": [
        {
          "output_type": "stream",
          "name": "stdout",
          "text": [
            "\n",
            "Variable: Gives data to the computer of prossesing.\n",
            "\n",
            "Comment: A note in a program that the Python interpreter ignores.\n",
            "\n",
            "List: A collection of items in a particular order.\n",
            "\n",
            "Loop: Work through a collection of items, one at a time.\n",
            "\n",
            "Dictionary: A collection of key-value pairs.\n"
          ]
        }
      ]
    },
    {
      "cell_type": "code",
      "source": [
        "# Exercise 3\n",
        "\n",
        "glossary = {'Variable': 'Gives data to the computer of prossesing.', 'Comment': 'A note in a program that the Python interpreter ignores.', 'List': 'A collection of items in a particular order.', 'Loop': \n",
        "            'Work through a collection of items, one at a time.', 'Dictionary': \"A collection of key-value pairs.\",\n",
        "    }\n",
        "\n",
        "for word, definition in glossary.items():\n",
        "    print(\"\\n\" + word.title() + \": \" + definition)"
      ],
      "metadata": {
        "colab": {
          "base_uri": "https://localhost:8080/"
        },
        "id": "AeytD8ZTdHEr",
        "outputId": "fa7ac182-5787-4166-cb7e-ad60fad55766"
      },
      "execution_count": null,
      "outputs": [
        {
          "output_type": "stream",
          "name": "stdout",
          "text": [
            "\n",
            "Variable: Gives data to the computer of prossesing.\n",
            "\n",
            "Comment: A note in a program that the Python interpreter ignores.\n",
            "\n",
            "List: A collection of items in a particular order.\n",
            "\n",
            "Loop: Work through a collection of items, one at a time.\n",
            "\n",
            "Dictionary: A collection of key-value pairs.\n"
          ]
        }
      ]
    },
    {
      "cell_type": "code",
      "execution_count": null,
      "metadata": {
        "colab": {
          "base_uri": "https://localhost:8080/"
        },
        "id": "dBA8f9mQWmLa",
        "outputId": "993f8313-634b-44ba-cebd-3ce0095d656f"
      },
      "outputs": [
        {
          "output_type": "stream",
          "name": "stdout",
          "text": [
            "TheYellow River flows through China.\n",
            "TheDanube flows through Europe.\n",
            "TheJordan flows through Jordan.\n",
            "TheAmazon flows through South America.\n",
            "TheLower Tunguska flows through Russia.\n",
            "\n",
            "The following rivers are included in this data set:\n",
            "-Yellow River\n",
            "-Danube\n",
            "-Jordan\n",
            "-Amazon\n",
            "-Lower Tunguska\n",
            "\n",
            "The following countries are included in this data set:\n",
            "-China\n",
            "-Europe\n",
            "-Jordan\n",
            "-South America\n",
            "-Russia\n"
          ]
        }
      ],
      "source": [
        "#Excercise 4\n",
        "\n",
        "rivers= {'Yellow River': 'China', 'Danube': 'Europe', 'Jordan': 'Jordan', 'Amazon': 'South America','Lower Tunguska': 'Russia'}\n",
        "\n",
        "for river, country in rivers.items():\n",
        " print(f\"The{river.title()} flows through {country.title()}.\")\n",
        "\n",
        "print(\"\\nThe following rivers are included in this data set:\")\n",
        "for river in rivers.keys():\n",
        "  print(f\"-{river.title()}\")\n",
        "\n",
        "print(\"\\nThe following countries are included in this data set:\")\n",
        "for country in rivers.values():\n",
        "  print(f\"-{country.title()}\")"
      ]
    },
    {
      "cell_type": "code",
      "source": [
        "# Exercise 5\n",
        "\n",
        "pets = []\n",
        "\n",
        "pet = {'animal type': 'parrot', 'name': 'junny',\n",
        "    'owner': 'JM', 'weight': 3, 'eats': 'seeds',}\n",
        "pets.append(pet)\n",
        "\n",
        "pet = {'animal type': 'Cat', 'name': 'patty', 'owner': 'trish', \n",
        "       'weight': 5, 'eats': 'cat food',}\n",
        "pets.append(pet)\n",
        "\n",
        "pet = {'animal type': 'dog', 'name': 'rocky', 'owner': 'gab', \n",
        "       'weight': 7, 'eats': 'socks',}\n",
        "pets.append(pet)\n",
        "\n",
        "# Display information about each pet.\n",
        "for pet in pets:\n",
        "    print(\"\\nHere's what I know about \" + pet['name'].title() + \":\")\n",
        "    for key, value in pet.items():\n",
        "        print(\"\\t\" + key + \": \" + str(value))"
      ],
      "metadata": {
        "colab": {
          "base_uri": "https://localhost:8080/"
        },
        "id": "sLd3vx8Qet30",
        "outputId": "019829f0-84c3-41d9-d4b1-bc03fbb85c6e"
      },
      "execution_count": null,
      "outputs": [
        {
          "output_type": "stream",
          "name": "stdout",
          "text": [
            "\n",
            "Here's what I know about Junny:\n",
            "\tanimal type: parrot\n",
            "\tname: junny\n",
            "\towner: JM\n",
            "\tweight: 3\n",
            "\teats: seeds\n",
            "\n",
            "Here's what I know about Patty:\n",
            "\tanimal type: Cat\n",
            "\tname: patty\n",
            "\towner: trish\n",
            "\tweight: 5\n",
            "\teats: cat food\n",
            "\n",
            "Here's what I know about Rocky:\n",
            "\tanimal type: dog\n",
            "\tname: rocky\n",
            "\towner: gab\n",
            "\tweight: 7\n",
            "\teats: socks\n"
          ]
        }
      ]
    }
  ]
}