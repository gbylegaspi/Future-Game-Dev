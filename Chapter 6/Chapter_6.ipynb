{
  "nbformat": 4,
  "nbformat_minor": 0,
  "metadata": {
    "colab": {
      "provenance": [],
      "collapsed_sections": [],
      "authorship_tag": "ABX9TyP10z0Ew9d9OxOn2lbBJ1ia",
      "include_colab_link": true
    },
    "kernelspec": {
      "name": "python3",
      "display_name": "Python 3"
    },
    "language_info": {
      "name": "python"
    }
  },
  "cells": [
    {
      "cell_type": "markdown",
      "metadata": {
        "id": "view-in-github",
        "colab_type": "text"
      },
      "source": [
        "<a href=\"https://colab.research.google.com/github/gbylegaspi/Future-Game-Dev/blob/main/Chapter%206/Chapter_6.ipynb\" target=\"_parent\"><img src=\"https://colab.research.google.com/assets/colab-badge.svg\" alt=\"Open In Colab\"/></a>"
      ]
    },
    {
      "cell_type": "code",
      "execution_count": null,
      "metadata": {
        "colab": {
          "base_uri": "https://localhost:8080/"
        },
        "id": "-dXkOA_EgZ_S",
        "outputId": "2bc74ccc-3911-46f9-832f-400ae5bb6122"
      },
      "outputs": [
        {
          "name": "stdout",
          "output_type": "stream",
          "text": [
            "\n",
            "What topping would you like?\n",
            "Enter 'quit' when you are done: quit\n"
          ]
        }
      ],
      "source": [
        "# Exercise 1\n",
        "\n",
        "prompt = \"\\nWhat topping would you like?\"\n",
        "prompt += \"\\nEnter 'quit' when you are done: \"\n",
        "\n",
        "while True:\n",
        "    topping = input(prompt)\n",
        "    if topping != 'quit':\n",
        "        print(\"  I will add some \" + topping + \" to your pizza.\")\n",
        "    else:\n",
        "        break"
      ]
    },
    {
      "cell_type": "code",
      "source": [
        "# Exercise 2\n",
        "\n",
        "prompt = \"Enter your age?\"\n",
        "prompt += \"\\nEnter 'quit' when you are finished. \"\n",
        "\n",
        "while True:\n",
        "    age = input(prompt)\n",
        "    if age == 'quit':\n",
        "        break\n",
        "    age = int(age)\n",
        "\n",
        "    if age < 3:\n",
        "        print(\"  You get in free!\")\n",
        "    elif age < 13:\n",
        "        print(\"  Your ticket is $10.\")\n",
        "    else:\n",
        "        print(\"  Your ticket is $15.\")"
      ],
      "metadata": {
        "colab": {
          "base_uri": "https://localhost:8080/"
        },
        "id": "_Zn_fATQh_MM",
        "outputId": "bf936aa6-9eee-4288-c33a-10864576b9e4"
      },
      "execution_count": null,
      "outputs": [
        {
          "name": "stdout",
          "output_type": "stream",
          "text": [
            "Enter your age?\n",
            "Enter 'quit' when you are finished. quit\n"
          ]
        }
      ]
    },
    {
      "cell_type": "code",
      "source": [
        "# Exercise 3\n",
        "\n",
        "while True:\n",
        "   num = int(input(\"Enter an integer: \"))\n",
        "   print(\"The double of\",num,\"is\",2 * num)"
      ],
      "metadata": {
        "colab": {
          "base_uri": "https://localhost:8080/",
          "height": 467
        },
        "id": "5O2Qq-PuiW22",
        "outputId": "2278c9d2-85fd-4ce8-892e-5a8987c09ca4"
      },
      "execution_count": null,
      "outputs": [
        {
          "output_type": "stream",
          "name": "stdout",
          "text": [
            "Enter an integer: 6\n",
            "The double of 6 is 12\n",
            "Enter an integer: 7\n",
            "The double of 7 is 14\n",
            "Enter an integer: 8\n",
            "The double of 8 is 16\n"
          ]
        },
        {
          "output_type": "error",
          "ename": "KeyboardInterrupt",
          "evalue": "ignored",
          "traceback": [
            "\u001b[0;31m---------------------------------------------------------------------------\u001b[0m",
            "\u001b[0;31mKeyboardInterrupt\u001b[0m                         Traceback (most recent call last)",
            "\u001b[0;32m<ipython-input-14-1799cb86fb70>\u001b[0m in \u001b[0;36m<module>\u001b[0;34m\u001b[0m\n\u001b[1;32m      2\u001b[0m \u001b[0;34m\u001b[0m\u001b[0m\n\u001b[1;32m      3\u001b[0m \u001b[0;32mwhile\u001b[0m \u001b[0;32mTrue\u001b[0m\u001b[0;34m:\u001b[0m\u001b[0;34m\u001b[0m\u001b[0;34m\u001b[0m\u001b[0m\n\u001b[0;32m----> 4\u001b[0;31m    \u001b[0mnum\u001b[0m \u001b[0;34m=\u001b[0m \u001b[0mint\u001b[0m\u001b[0;34m(\u001b[0m\u001b[0minput\u001b[0m\u001b[0;34m(\u001b[0m\u001b[0;34m\"Enter an integer: \"\u001b[0m\u001b[0;34m)\u001b[0m\u001b[0;34m)\u001b[0m\u001b[0;34m\u001b[0m\u001b[0;34m\u001b[0m\u001b[0m\n\u001b[0m\u001b[1;32m      5\u001b[0m    \u001b[0mprint\u001b[0m\u001b[0;34m(\u001b[0m\u001b[0;34m\"The double of\"\u001b[0m\u001b[0;34m,\u001b[0m\u001b[0mnum\u001b[0m\u001b[0;34m,\u001b[0m\u001b[0;34m\"is\"\u001b[0m\u001b[0;34m,\u001b[0m\u001b[0;36m2\u001b[0m \u001b[0;34m*\u001b[0m \u001b[0mnum\u001b[0m\u001b[0;34m)\u001b[0m\u001b[0;34m\u001b[0m\u001b[0;34m\u001b[0m\u001b[0m\n",
            "\u001b[0;32m/usr/local/lib/python3.7/dist-packages/ipykernel/kernelbase.py\u001b[0m in \u001b[0;36mraw_input\u001b[0;34m(self, prompt)\u001b[0m\n\u001b[1;32m    861\u001b[0m             \u001b[0mself\u001b[0m\u001b[0;34m.\u001b[0m\u001b[0m_parent_ident\u001b[0m\u001b[0;34m,\u001b[0m\u001b[0;34m\u001b[0m\u001b[0;34m\u001b[0m\u001b[0m\n\u001b[1;32m    862\u001b[0m             \u001b[0mself\u001b[0m\u001b[0;34m.\u001b[0m\u001b[0m_parent_header\u001b[0m\u001b[0;34m,\u001b[0m\u001b[0;34m\u001b[0m\u001b[0;34m\u001b[0m\u001b[0m\n\u001b[0;32m--> 863\u001b[0;31m             \u001b[0mpassword\u001b[0m\u001b[0;34m=\u001b[0m\u001b[0;32mFalse\u001b[0m\u001b[0;34m,\u001b[0m\u001b[0;34m\u001b[0m\u001b[0;34m\u001b[0m\u001b[0m\n\u001b[0m\u001b[1;32m    864\u001b[0m         )\n\u001b[1;32m    865\u001b[0m \u001b[0;34m\u001b[0m\u001b[0m\n",
            "\u001b[0;32m/usr/local/lib/python3.7/dist-packages/ipykernel/kernelbase.py\u001b[0m in \u001b[0;36m_input_request\u001b[0;34m(self, prompt, ident, parent, password)\u001b[0m\n\u001b[1;32m    902\u001b[0m             \u001b[0;32mexcept\u001b[0m \u001b[0mKeyboardInterrupt\u001b[0m\u001b[0;34m:\u001b[0m\u001b[0;34m\u001b[0m\u001b[0;34m\u001b[0m\u001b[0m\n\u001b[1;32m    903\u001b[0m                 \u001b[0;31m# re-raise KeyboardInterrupt, to truncate traceback\u001b[0m\u001b[0;34m\u001b[0m\u001b[0;34m\u001b[0m\u001b[0;34m\u001b[0m\u001b[0m\n\u001b[0;32m--> 904\u001b[0;31m                 \u001b[0;32mraise\u001b[0m \u001b[0mKeyboardInterrupt\u001b[0m\u001b[0;34m(\u001b[0m\u001b[0;34m\"Interrupted by user\"\u001b[0m\u001b[0;34m)\u001b[0m \u001b[0;32mfrom\u001b[0m \u001b[0;32mNone\u001b[0m\u001b[0;34m\u001b[0m\u001b[0;34m\u001b[0m\u001b[0m\n\u001b[0m\u001b[1;32m    905\u001b[0m             \u001b[0;32mexcept\u001b[0m \u001b[0mException\u001b[0m \u001b[0;32mas\u001b[0m \u001b[0me\u001b[0m\u001b[0;34m:\u001b[0m\u001b[0;34m\u001b[0m\u001b[0;34m\u001b[0m\u001b[0m\n\u001b[1;32m    906\u001b[0m                 \u001b[0mself\u001b[0m\u001b[0;34m.\u001b[0m\u001b[0mlog\u001b[0m\u001b[0;34m.\u001b[0m\u001b[0mwarning\u001b[0m\u001b[0;34m(\u001b[0m\u001b[0;34m\"Invalid Message:\"\u001b[0m\u001b[0;34m,\u001b[0m \u001b[0mexc_info\u001b[0m\u001b[0;34m=\u001b[0m\u001b[0;32mTrue\u001b[0m\u001b[0;34m)\u001b[0m\u001b[0;34m\u001b[0m\u001b[0;34m\u001b[0m\u001b[0m\n",
            "\u001b[0;31mKeyboardInterrupt\u001b[0m: Interrupted by user"
          ]
        }
      ]
    },
    {
      "cell_type": "code",
      "source": [
        "# Exercise 4\n",
        "\n",
        "sandwich_orders = ['BLT', 'Nutella', 'PB AND J', 'Turkey']\n",
        "finished_sandwiches = []\n",
        "\n",
        "while sandwich_orders:\n",
        "    current_sandwich = sandwich_orders.pop()\n",
        "    print(\"I'll make your \" + current_sandwich + \" sandwich.\")\n",
        "    finished_sandwiches.append(current_sandwich)\n",
        "\n",
        "print(\"\\n\")\n",
        "for sandwich in finished_sandwiches:\n",
        "    print(\"I'm done making your \" + sandwich + \" sandwich.\")"
      ],
      "metadata": {
        "colab": {
          "base_uri": "https://localhost:8080/"
        },
        "id": "cMdzWvDsjOIv",
        "outputId": "4d2a3bec-2269-42ba-d263-c01af1aa34e2"
      },
      "execution_count": null,
      "outputs": [
        {
          "output_type": "stream",
          "name": "stdout",
          "text": [
            "I'll make your Turkey sandwich.\n",
            "I'll make your PB AND J sandwich.\n",
            "I'll make your Nutella sandwich.\n",
            "I'll make your BLT sandwich.\n",
            "\n",
            "\n",
            "I'm done making your Turkey sandwich.\n",
            "I'm done making your PB AND J sandwich.\n",
            "I'm done making your Nutella sandwich.\n",
            "I'm done making your BLT sandwich.\n"
          ]
        }
      ]
    },
    {
      "cell_type": "code",
      "source": [
        "# Exercise 5\n",
        "\n",
        "sandwich_orders = ['pastrami', 'BLT', 'Nutella', 'pastrami', 'PB AND J', 'Turkey', 'pastrami']\n",
        "finished_sandwiches = []\n",
        "\n",
        "print(\"Sorry we done have pastrami for today.\")\n",
        "while 'pastrami' in sandwich_orders:\n",
        "    sandwich_orders.remove('pastrami')\n",
        "\n",
        "print(\"\\n\")\n",
        "while sandwich_orders:\n",
        "    current_sandwich = sandwich_orders.pop()\n",
        "    print(\"I'll make your \" + current_sandwich + \" sandwich.\")\n",
        "    finished_sandwiches.append(current_sandwich)\n",
        "\n",
        "print(\"\\n\")\n",
        "for sandwich in finished_sandwiches:\n",
        "    print(\"I'm done making your \" + sandwich + \" sandwich.\")"
      ],
      "metadata": {
        "colab": {
          "base_uri": "https://localhost:8080/"
        },
        "id": "kD-807R3kDG3",
        "outputId": "c1465d86-2fa5-4922-cff7-af0325d4e731"
      },
      "execution_count": null,
      "outputs": [
        {
          "output_type": "stream",
          "name": "stdout",
          "text": [
            "Sorry we done have pastrami for today.\n",
            "\n",
            "\n",
            "I'll make your Turkey sandwich.\n",
            "I'll make your PB AND J sandwich.\n",
            "I'll make your Nutella sandwich.\n",
            "I'll make your BLT sandwich.\n",
            "\n",
            "\n",
            "I'm done making your Turkey sandwich.\n",
            "I'm done making your PB AND J sandwich.\n",
            "I'm done making your Nutella sandwich.\n",
            "I'm done making your BLT sandwich.\n"
          ]
        }
      ]
    }
  ]
}