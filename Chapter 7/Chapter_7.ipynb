{
  "nbformat": 4,
  "nbformat_minor": 0,
  "metadata": {
    "colab": {
      "provenance": [],
      "collapsed_sections": [],
      "authorship_tag": "ABX9TyP+hA7qy5a75EiesxGnWMLV",
      "include_colab_link": true
    },
    "kernelspec": {
      "name": "python3",
      "display_name": "Python 3"
    },
    "language_info": {
      "name": "python"
    }
  },
  "cells": [
    {
      "cell_type": "markdown",
      "metadata": {
        "id": "view-in-github",
        "colab_type": "text"
      },
      "source": [
        "<a href=\"https://colab.research.google.com/github/gbylegaspi/Future-Game-Dev/blob/main/Chapter%207/Chapter_7.ipynb\" target=\"_parent\"><img src=\"https://colab.research.google.com/assets/colab-badge.svg\" alt=\"Open In Colab\"/></a>"
      ]
    },
    {
      "cell_type": "code",
      "execution_count": null,
      "metadata": {
        "colab": {
          "base_uri": "https://localhost:8080/"
        },
        "id": "iY1W_6TYbZ2m",
        "outputId": "3fe3250a-6861-4037-d71c-3859cbd6c89a"
      },
      "outputs": [
        {
          "output_type": "stream",
          "name": "stdout",
          "text": [
            "Hello, I am learning about, Functions\n"
          ]
        }
      ],
      "source": [
        "# Exercise 1\n",
        "\n",
        "# It is a function that prints onr sentence that tells everyone what I am learning in this chapter\n",
        "def display_message(lesson):\n",
        "  print(f\"Hello, I am learning about, {lesson.title()}\")\n",
        "display_message('functions')"
      ]
    },
    {
      "cell_type": "code",
      "source": [
        "# Exercise 2\n",
        "\n",
        "# This is a script that prints my favorite book\n",
        "def favorite_book(mine):\n",
        "  print(f\"Hello, my favorite book is, {mine.title()}\")\n",
        "favorite_book('Moby Dick')"
      ],
      "metadata": {
        "colab": {
          "base_uri": "https://localhost:8080/"
        },
        "id": "PbdEJ3bWeBGv",
        "outputId": "0887b6d0-704c-410f-c424-1fb3b71b384d"
      },
      "execution_count": null,
      "outputs": [
        {
          "output_type": "stream",
          "name": "stdout",
          "text": [
            "Hello, my favorite book is, Moby Dick\n"
          ]
        }
      ]
    },
    {
      "cell_type": "code",
      "source": [
        "# Exercise 3\n",
        "\n",
        "# In this script shows that size and message on the t-shirt \n",
        "def make_shirt(size, message):\n",
        "    \n",
        "    print(\"\\nI want the size to me a \" + size + \" t-shirt.\")\n",
        "    print('The print should be, \"' + message + '\"')\n",
        "\n",
        "make_shirt('XL', 'Young, Wild and Free')\n",
        "make_shirt(message=\"YOLO\", size='small')"
      ],
      "metadata": {
        "colab": {
          "base_uri": "https://localhost:8080/"
        },
        "id": "CCeazLRknvt5",
        "outputId": "2ce3207c-2a37-4f2d-8ec6-32653d8867f1"
      },
      "execution_count": null,
      "outputs": [
        {
          "output_type": "stream",
          "name": "stdout",
          "text": [
            "\n",
            "I want the size to me a XL t-shirt.\n",
            "The print should be, \"Young, Wild and Free\"\n",
            "\n",
            "I want the size to me a small t-shirt.\n",
            "The print should be, \"YOLO\"\n"
          ]
        }
      ]
    },
    {
      "cell_type": "code",
      "source": [
        "# Exercise 4\n",
        "\n",
        "# In this script shows that size and message on the t-shirt \n",
        "def make_shirt(size='large', message='I love python'):\n",
        "    \n",
        "    print(\"\\nI'm going to make a \" + size + \" t-shirt.\")\n",
        "    print('It will say, \"' + message + '\"')\n",
        "# This shows that different sizes have different texts\n",
        "make_shirt()\n",
        "make_shirt(size='medium')\n",
        "make_shirt('XXL', 'YOLO')"
      ],
      "metadata": {
        "colab": {
          "base_uri": "https://localhost:8080/"
        },
        "id": "GlTik2h5ovr5",
        "outputId": "92e0b90d-7a65-47f2-c8a2-8ee7422d0b2a"
      },
      "execution_count": null,
      "outputs": [
        {
          "output_type": "stream",
          "name": "stdout",
          "text": [
            "\n",
            "I'm going to make a large t-shirt.\n",
            "It will say, \"I love python\"\n",
            "\n",
            "I'm going to make a medium t-shirt.\n",
            "It will say, \"I love python\"\n",
            "\n",
            "I'm going to make a XXL t-shirt.\n",
            "It will say, \"YOLO\"\n"
          ]
        }
      ]
    },
    {
      "cell_type": "code",
      "source": [
        "# Exercise 5\n",
        "\n",
        "# This script accepts the name of the city and the country it is in\n",
        "def describe_city(city, country='Philippines'):\n",
        "    \n",
        "    msg = city.title() + \" is in \" + country.title() + \".\"\n",
        "    print(msg)\n",
        "\n",
        "describe_city('Pasay City')\n",
        "describe_city('Dubai', 'UAE')\n",
        "describe_city('Quezon City')\n",
        "describe_city('Paranaque')"
      ],
      "metadata": {
        "colab": {
          "base_uri": "https://localhost:8080/"
        },
        "id": "xv6aoXYGpTV4",
        "outputId": "67b6a93b-2342-4709-f27b-187c89f00a82"
      },
      "execution_count": null,
      "outputs": [
        {
          "output_type": "stream",
          "name": "stdout",
          "text": [
            "Pasay City is in Philippines.\n",
            "Dubai is in Uae.\n",
            "Quezon City is in Philippines.\n",
            "Paranaque is in Philippines.\n"
          ]
        }
      ]
    }
  ]
}