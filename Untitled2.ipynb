{
  "nbformat": 4,
  "nbformat_minor": 0,
  "metadata": {
    "colab": {
      "provenance": [],
      "authorship_tag": "ABX9TyMl/JkYb/gKlAnX08UcZv0Q",
      "include_colab_link": true
    },
    "kernelspec": {
      "name": "python3",
      "display_name": "Python 3"
    },
    "language_info": {
      "name": "python"
    }
  },
  "cells": [
    {
      "cell_type": "markdown",
      "metadata": {
        "id": "view-in-github",
        "colab_type": "text"
      },
      "source": [
        "<a href=\"https://colab.research.google.com/github/gbylegaspi/Future-Game-Dev/blob/main/Untitled2.ipynb\" target=\"_parent\"><img src=\"https://colab.research.google.com/assets/colab-badge.svg\" alt=\"Open In Colab\"/></a>"
      ]
    },
    {
      "cell_type": "code",
      "execution_count": 4,
      "metadata": {
        "colab": {
          "base_uri": "https://localhost:8080/"
        },
        "id": "xBPknf7vrxHh",
        "outputId": "fb53d243-14d7-41be-b5a0-2bbd4431fccd"
      },
      "outputs": [
        {
          "output_type": "stream",
          "name": "stdout",
          "text": [
            "A Tisket, a tasket, a green and yellow basket.\n",
            "I wrote a letter to my friend, and on the way I dropped it.\n",
            "I dropped it, I dropped it,\n",
            "and on the way I dropped it.\n",
            "The little boy, he picked it up,\n",
            "and put it in his pocket.\n"
          ]
        }
      ],
      "source": [
        "print(\"A Tisket, a tasket, a green and yellow basket.\")\n",
        "\n",
        "print(\"I wrote a letter to my friend, and on the way I dropped it.\")\n",
        "\n",
        "print(\"I dropped it, I dropped it,\")\n",
        "\n",
        "print(\"and on the way I dropped it.\")\n",
        "\n",
        "print(\"The little boy, he picked it up,\")\n",
        "\n",
        "print(\"and put it in his pocket.\")\n",
        "\n"
      ]
    },
    {
      "cell_type": "code",
      "source": [
        "import sys\n",
        "print(\"Pyhton version\")\n",
        "print(sys.version)\n",
        "print(\"\\n\")\n",
        "print(\"Version info\")\n",
        "print(sys.version_info)"
      ],
      "metadata": {
        "colab": {
          "base_uri": "https://localhost:8080/"
        },
        "id": "bn5H1BiCzxpo",
        "outputId": "563e458b-b6bb-4a58-a67c-2b904d9b8df4"
      },
      "execution_count": 7,
      "outputs": [
        {
          "output_type": "stream",
          "name": "stdout",
          "text": [
            "Pyhton version\n",
            "3.7.14 (default, Sep  8 2022, 00:06:44) \n",
            "[GCC 7.5.0]\n",
            "\n",
            "\n",
            "Version info\n",
            "sys.version_info(major=3, minor=7, micro=14, releaselevel='final', serial=0)\n"
          ]
        }
      ]
    },
    {
      "cell_type": "code",
      "source": [
        "from datetime import date\n",
        "today = date.today()\n",
        "print(\"Today's date\", today)"
      ],
      "metadata": {
        "colab": {
          "base_uri": "https://localhost:8080/"
        },
        "id": "6FbFtjFZ0_0-",
        "outputId": "34f61a55-dfea-4807-a191-125c642f54c4"
      },
      "execution_count": 10,
      "outputs": [
        {
          "output_type": "stream",
          "name": "stdout",
          "text": [
            "Today's date 2022-09-29\n"
          ]
        }
      ]
    },
    {
      "cell_type": "code",
      "source": [
        "from datetime import date\n",
        "\n",
        "today = date.today()\n",
        "\n",
        "# dd/mm/YY\n",
        "d1 = today.strftime(\"%d/%m/%Y\")\n",
        "print(\"d1 =\", d1)\n",
        "\n",
        "# Textual month, day and year\n",
        "d2 = today.strftime(\"%B/%d/%Y\")\n",
        "print(\"d2 =\", d2)\n",
        "\n"
      ],
      "metadata": {
        "colab": {
          "base_uri": "https://localhost:8080/"
        },
        "id": "fs0zHXIM2yRR",
        "outputId": "2be13bf1-c85e-49ec-c450-7dff0b72d526"
      },
      "execution_count": 12,
      "outputs": [
        {
          "output_type": "stream",
          "name": "stdout",
          "text": [
            "d1 = 29/09/2022\n",
            "d2 = September/29/2022\n"
          ]
        }
      ]
    },
    {
      "cell_type": "code",
      "source": [
        "from datetime import datetime\n",
        "\n",
        "# datetime object containing current date and time\n",
        "now = datetime.now()\n",
        "\n",
        "print(\"now =\", now)\n",
        "\n",
        "# dd/mm/YY H:M:S\n",
        "dt_string = now.strftime(\"%d/%m/%Y %H:%M:%S\")\n",
        "print(\"date and time =\", dt_string)"
      ],
      "metadata": {
        "colab": {
          "base_uri": "https://localhost:8080/"
        },
        "id": "vpX1FxLw4HiI",
        "outputId": "847a4485-4093-4f5f-835c-6581a04f589d"
      },
      "execution_count": 14,
      "outputs": [
        {
          "output_type": "stream",
          "name": "stdout",
          "text": [
            "now = 2022-09-29 15:37:14.031479\n",
            "date and time = 29/09/2022 15:37:14\n"
          ]
        }
      ]
    },
    {
      "cell_type": "code",
      "source": [],
      "metadata": {
        "id": "1V1OWIiK5KJM"
      },
      "execution_count": null,
      "outputs": []
    }
  ]
}